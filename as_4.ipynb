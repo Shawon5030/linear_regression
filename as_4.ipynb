{
 "cells": [
  {
   "cell_type": "code",
   "execution_count": 66,
   "id": "7d46775f",
   "metadata": {},
   "outputs": [],
   "source": [
    "import pandas as pd\n",
    "import numpy as np\n",
    "df=pd.read_csv(\"Downloads/w.csv\",sep=';')"
   ]
  },
  {
   "cell_type": "code",
   "execution_count": 67,
   "id": "28829823",
   "metadata": {},
   "outputs": [],
   "source": [
    "x=df['Weight']\n",
    "x_bar=np.mean(x)"
   ]
  },
  {
   "cell_type": "code",
   "execution_count": 68,
   "id": "65b9730a",
   "metadata": {},
   "outputs": [],
   "source": [
    "y=df['Price']\n",
    "y_bar=np.mean(y)"
   ]
  },
  {
   "cell_type": "code",
   "execution_count": 69,
   "id": "5829f12b",
   "metadata": {},
   "outputs": [],
   "source": [
    "first_eq=np.sum((x-x_bar)*(y-y_bar))\n",
    "second_eq=np.sum((x-x_bar)**2)"
   ]
  },
  {
   "cell_type": "code",
   "execution_count": 70,
   "id": "6ba2f91b",
   "metadata": {},
   "outputs": [],
   "source": [
    "coef=first_eq/second_eq\n"
   ]
  },
  {
   "cell_type": "code",
   "execution_count": 71,
   "id": "e3e4388d",
   "metadata": {},
   "outputs": [],
   "source": [
    "intercept=y_bar-(coef*x_bar)\n"
   ]
  },
  {
   "cell_type": "code",
   "execution_count": 72,
   "id": "b1fd221a",
   "metadata": {},
   "outputs": [
    {
     "data": {
      "text/plain": [
       "2.620967741935484"
      ]
     },
     "execution_count": 72,
     "metadata": {},
     "output_type": "execute_result"
    }
   ],
   "source": [
    "coef\n"
   ]
  },
  {
   "cell_type": "code",
   "execution_count": 73,
   "id": "ccb21a0d",
   "metadata": {},
   "outputs": [
    {
     "data": {
      "text/plain": [
       "35.16129032258065"
      ]
     },
     "execution_count": 73,
     "metadata": {},
     "output_type": "execute_result"
    }
   ],
   "source": [
    "intercept"
   ]
  },
  {
   "cell_type": "code",
   "execution_count": 74,
   "id": "ff98be0e",
   "metadata": {},
   "outputs": [],
   "source": [
    "y1=coef*2+intercept \n",
    "y2=coef*4+intercept\n",
    "y3=coef*4+intercept\n",
    "y4=coef*5+intercept\n",
    "y5=coef*6+intercept\n",
    "y6=coef*5+intercept\n",
    "y7=coef*7+intercept"
   ]
  },
  {
   "cell_type": "code",
   "execution_count": 75,
   "id": "11571deb",
   "metadata": {},
   "outputs": [
    {
     "data": {
      "text/html": [
       "<div>\n",
       "<style scoped>\n",
       "    .dataframe tbody tr th:only-of-type {\n",
       "        vertical-align: middle;\n",
       "    }\n",
       "\n",
       "    .dataframe tbody tr th {\n",
       "        vertical-align: top;\n",
       "    }\n",
       "\n",
       "    .dataframe thead th {\n",
       "        text-align: right;\n",
       "    }\n",
       "</style>\n",
       "<table border=\"1\" class=\"dataframe\">\n",
       "  <thead>\n",
       "    <tr style=\"text-align: right;\">\n",
       "      <th></th>\n",
       "      <th>Weight</th>\n",
       "      <th>Price</th>\n",
       "      <th>prediction</th>\n",
       "    </tr>\n",
       "  </thead>\n",
       "  <tbody>\n",
       "    <tr>\n",
       "      <th>0</th>\n",
       "      <td>2</td>\n",
       "      <td>35</td>\n",
       "      <td>40.403226</td>\n",
       "    </tr>\n",
       "    <tr>\n",
       "      <th>1</th>\n",
       "      <td>4</td>\n",
       "      <td>60</td>\n",
       "      <td>45.645161</td>\n",
       "    </tr>\n",
       "    <tr>\n",
       "      <th>2</th>\n",
       "      <td>5</td>\n",
       "      <td>20</td>\n",
       "      <td>45.645161</td>\n",
       "    </tr>\n",
       "    <tr>\n",
       "      <th>3</th>\n",
       "      <td>3</td>\n",
       "      <td>50</td>\n",
       "      <td>48.266129</td>\n",
       "    </tr>\n",
       "    <tr>\n",
       "      <th>4</th>\n",
       "      <td>6</td>\n",
       "      <td>50</td>\n",
       "      <td>50.887097</td>\n",
       "    </tr>\n",
       "    <tr>\n",
       "      <th>5</th>\n",
       "      <td>5</td>\n",
       "      <td>55</td>\n",
       "      <td>48.266129</td>\n",
       "    </tr>\n",
       "    <tr>\n",
       "      <th>6</th>\n",
       "      <td>7</td>\n",
       "      <td>60</td>\n",
       "      <td>53.508065</td>\n",
       "    </tr>\n",
       "  </tbody>\n",
       "</table>\n",
       "</div>"
      ],
      "text/plain": [
       "   Weight  Price  prediction\n",
       "0       2     35   40.403226\n",
       "1       4     60   45.645161\n",
       "2       5     20   45.645161\n",
       "3       3     50   48.266129\n",
       "4       6     50   50.887097\n",
       "5       5     55   48.266129\n",
       "6       7     60   53.508065"
      ]
     },
     "execution_count": 75,
     "metadata": {},
     "output_type": "execute_result"
    }
   ],
   "source": [
    "\n",
    "df[\"prediction\"]=(y1,y2,y3,y4,y5,y6,y7)\n",
    "df"
   ]
  },
  {
   "cell_type": "code",
   "execution_count": 103,
   "id": "55fca4ed",
   "metadata": {},
   "outputs": [],
   "source": [
    "\n"
   ]
  },
  {
   "cell_type": "markdown",
   "id": "99d1ef65",
   "metadata": {},
   "source": [
    "# MAE"
   ]
  },
  {
   "cell_type": "code",
   "execution_count": 104,
   "id": "321c037c",
   "metadata": {},
   "outputs": [
    {
     "name": "stdout",
     "output_type": "stream",
     "text": [
      "8.75\n"
     ]
    }
   ],
   "source": [
    "\n",
    "m1=-df['Price'][0]+y1\n",
    "m2=df['Price'][1]-y2\n",
    "m3=-df['Price'][2]+y3 #m1,m3,m5 normaly giving nag(-) value so me used (-) before df\n",
    "m4=df['Price'][3]-y4\n",
    "m5=-df['Price'][4]+y5\n",
    "m6=df['Price'][5]-y6\n",
    "m7=df['Price'][6]-y7\n",
    "print((m1+m2+m3+m4+m5+m6+m7)/7)"
   ]
  },
  {
   "cell_type": "markdown",
   "id": "5094bce5",
   "metadata": {},
   "source": [
    "# MSE"
   ]
  },
  {
   "cell_type": "code",
   "execution_count": 105,
   "id": "3959340f",
   "metadata": {},
   "outputs": [
    {
     "name": "stdout",
     "output_type": "stream",
     "text": [
      "2924.242557975324\n"
     ]
    }
   ],
   "source": [
    "m1=(df['Price'][0]+y1)**2\n",
    "m2=(df['Price'][1]-y2)**2\n",
    "m3=(df['Price'][2]+y3)**2\n",
    "m4=(df['Price'][3]-y4)**2\n",
    "m5=(df['Price'][4]+y5)**2\n",
    "m6=(df['Price'][5]-y6)**2\n",
    "m7=(df['Price'][6]-y7)**2\n",
    "print((m1+m2+m3+m4+m5+m6+m7)/7)"
   ]
  },
  {
   "cell_type": "code",
   "execution_count": null,
   "id": "0172b903",
   "metadata": {},
   "outputs": [],
   "source": []
  },
  {
   "cell_type": "code",
   "execution_count": null,
   "id": "cf777aaa",
   "metadata": {},
   "outputs": [],
   "source": []
  },
  {
   "cell_type": "markdown",
   "id": "dbc938a5",
   "metadata": {},
   "source": [
    "# Residuals"
   ]
  },
  {
   "cell_type": "code",
   "execution_count": 125,
   "id": "6dc3f55c",
   "metadata": {},
   "outputs": [],
   "source": [
    "r1=-df['Price'][0]+df[\"prediction\"][0]\n",
    "r2=df['Price'][1]-df[\"prediction\"][1]\n",
    "r3=-df['Price'][2]+df[\"prediction\"][2] \n",
    "r4=df['Price'][3]-df[\"prediction\"][3]\n",
    "r5=-df['Price'][4]+df[\"prediction\"][4]\n",
    "r6=df['Price'][5]-df[\"prediction\"][5]\n",
    "r7=df['Price'][6]-df[\"prediction\"][6]\n"
   ]
  },
  {
   "cell_type": "code",
   "execution_count": 126,
   "id": "ed45da72",
   "metadata": {},
   "outputs": [],
   "source": [
    "df[\"Residuals\"]=[r1,r2,r3,r4,r5,r6,r7]\n",
    "df[\"MSE\"]=(2924.242,\"nan\",'nan','nan','nan','nan','nan')\n",
    "df[\"MAE\"]=(8.75,\"nan\",'nan','nan','nan','nan','nan')"
   ]
  },
  {
   "cell_type": "code",
   "execution_count": 127,
   "id": "016f4237",
   "metadata": {
    "scrolled": true
   },
   "outputs": [
    {
     "data": {
      "text/html": [
       "<div>\n",
       "<style scoped>\n",
       "    .dataframe tbody tr th:only-of-type {\n",
       "        vertical-align: middle;\n",
       "    }\n",
       "\n",
       "    .dataframe tbody tr th {\n",
       "        vertical-align: top;\n",
       "    }\n",
       "\n",
       "    .dataframe thead th {\n",
       "        text-align: right;\n",
       "    }\n",
       "</style>\n",
       "<table border=\"1\" class=\"dataframe\">\n",
       "  <thead>\n",
       "    <tr style=\"text-align: right;\">\n",
       "      <th></th>\n",
       "      <th>Weight</th>\n",
       "      <th>Price</th>\n",
       "      <th>prediction</th>\n",
       "      <th>MSE</th>\n",
       "      <th>MAE</th>\n",
       "      <th>Residuals</th>\n",
       "    </tr>\n",
       "  </thead>\n",
       "  <tbody>\n",
       "    <tr>\n",
       "      <th>0</th>\n",
       "      <td>2</td>\n",
       "      <td>35</td>\n",
       "      <td>40.403226</td>\n",
       "      <td>2924.242</td>\n",
       "      <td>8.75</td>\n",
       "      <td>5.403226</td>\n",
       "    </tr>\n",
       "    <tr>\n",
       "      <th>1</th>\n",
       "      <td>4</td>\n",
       "      <td>60</td>\n",
       "      <td>45.645161</td>\n",
       "      <td>nan</td>\n",
       "      <td>nan</td>\n",
       "      <td>14.354839</td>\n",
       "    </tr>\n",
       "    <tr>\n",
       "      <th>2</th>\n",
       "      <td>5</td>\n",
       "      <td>20</td>\n",
       "      <td>45.645161</td>\n",
       "      <td>nan</td>\n",
       "      <td>nan</td>\n",
       "      <td>25.645161</td>\n",
       "    </tr>\n",
       "    <tr>\n",
       "      <th>3</th>\n",
       "      <td>3</td>\n",
       "      <td>50</td>\n",
       "      <td>48.266129</td>\n",
       "      <td>nan</td>\n",
       "      <td>nan</td>\n",
       "      <td>1.733871</td>\n",
       "    </tr>\n",
       "    <tr>\n",
       "      <th>4</th>\n",
       "      <td>6</td>\n",
       "      <td>50</td>\n",
       "      <td>50.887097</td>\n",
       "      <td>nan</td>\n",
       "      <td>nan</td>\n",
       "      <td>0.887097</td>\n",
       "    </tr>\n",
       "    <tr>\n",
       "      <th>5</th>\n",
       "      <td>5</td>\n",
       "      <td>55</td>\n",
       "      <td>48.266129</td>\n",
       "      <td>nan</td>\n",
       "      <td>nan</td>\n",
       "      <td>6.733871</td>\n",
       "    </tr>\n",
       "    <tr>\n",
       "      <th>6</th>\n",
       "      <td>7</td>\n",
       "      <td>60</td>\n",
       "      <td>53.508065</td>\n",
       "      <td>nan</td>\n",
       "      <td>nan</td>\n",
       "      <td>6.491935</td>\n",
       "    </tr>\n",
       "  </tbody>\n",
       "</table>\n",
       "</div>"
      ],
      "text/plain": [
       "   Weight  Price  prediction       MSE   MAE  Residuals\n",
       "0       2     35   40.403226  2924.242  8.75   5.403226\n",
       "1       4     60   45.645161       nan   nan  14.354839\n",
       "2       5     20   45.645161       nan   nan  25.645161\n",
       "3       3     50   48.266129       nan   nan   1.733871\n",
       "4       6     50   50.887097       nan   nan   0.887097\n",
       "5       5     55   48.266129       nan   nan   6.733871\n",
       "6       7     60   53.508065       nan   nan   6.491935"
      ]
     },
     "execution_count": 127,
     "metadata": {},
     "output_type": "execute_result"
    }
   ],
   "source": [
    "df"
   ]
  },
  {
   "cell_type": "code",
   "execution_count": 128,
   "id": "d49aa804",
   "metadata": {},
   "outputs": [
    {
     "data": {
      "text/html": [
       "<div>\n",
       "<style scoped>\n",
       "    .dataframe tbody tr th:only-of-type {\n",
       "        vertical-align: middle;\n",
       "    }\n",
       "\n",
       "    .dataframe tbody tr th {\n",
       "        vertical-align: top;\n",
       "    }\n",
       "\n",
       "    .dataframe thead th {\n",
       "        text-align: right;\n",
       "    }\n",
       "</style>\n",
       "<table border=\"1\" class=\"dataframe\">\n",
       "  <thead>\n",
       "    <tr style=\"text-align: right;\">\n",
       "      <th></th>\n",
       "      <th>Weight</th>\n",
       "      <th>Price</th>\n",
       "      <th>prediction</th>\n",
       "      <th>MSE</th>\n",
       "      <th>MAE</th>\n",
       "      <th>Residuals</th>\n",
       "    </tr>\n",
       "  </thead>\n",
       "  <tbody>\n",
       "    <tr>\n",
       "      <th>0</th>\n",
       "      <td>2</td>\n",
       "      <td>35</td>\n",
       "      <td>40.403226</td>\n",
       "      <td>2924.242</td>\n",
       "      <td>8.75</td>\n",
       "      <td>5.403226</td>\n",
       "    </tr>\n",
       "    <tr>\n",
       "      <th>1</th>\n",
       "      <td>4</td>\n",
       "      <td>60</td>\n",
       "      <td>45.645161</td>\n",
       "      <td>NaN</td>\n",
       "      <td>NaN</td>\n",
       "      <td>14.354839</td>\n",
       "    </tr>\n",
       "    <tr>\n",
       "      <th>2</th>\n",
       "      <td>5</td>\n",
       "      <td>20</td>\n",
       "      <td>45.645161</td>\n",
       "      <td>NaN</td>\n",
       "      <td>NaN</td>\n",
       "      <td>25.645161</td>\n",
       "    </tr>\n",
       "    <tr>\n",
       "      <th>3</th>\n",
       "      <td>3</td>\n",
       "      <td>50</td>\n",
       "      <td>48.266129</td>\n",
       "      <td>NaN</td>\n",
       "      <td>NaN</td>\n",
       "      <td>1.733871</td>\n",
       "    </tr>\n",
       "    <tr>\n",
       "      <th>4</th>\n",
       "      <td>6</td>\n",
       "      <td>50</td>\n",
       "      <td>50.887097</td>\n",
       "      <td>NaN</td>\n",
       "      <td>NaN</td>\n",
       "      <td>0.887097</td>\n",
       "    </tr>\n",
       "    <tr>\n",
       "      <th>5</th>\n",
       "      <td>5</td>\n",
       "      <td>55</td>\n",
       "      <td>48.266129</td>\n",
       "      <td>NaN</td>\n",
       "      <td>NaN</td>\n",
       "      <td>6.733871</td>\n",
       "    </tr>\n",
       "    <tr>\n",
       "      <th>6</th>\n",
       "      <td>7</td>\n",
       "      <td>60</td>\n",
       "      <td>53.508065</td>\n",
       "      <td>NaN</td>\n",
       "      <td>NaN</td>\n",
       "      <td>6.491935</td>\n",
       "    </tr>\n",
       "  </tbody>\n",
       "</table>\n",
       "</div>"
      ],
      "text/plain": [
       "   Weight  Price  prediction       MSE   MAE  Residuals\n",
       "0       2     35   40.403226  2924.242  8.75   5.403226\n",
       "1       4     60   45.645161       NaN   NaN  14.354839\n",
       "2       5     20   45.645161       NaN   NaN  25.645161\n",
       "3       3     50   48.266129       NaN   NaN   1.733871\n",
       "4       6     50   50.887097       NaN   NaN   0.887097\n",
       "5       5     55   48.266129       NaN   NaN   6.733871\n",
       "6       7     60   53.508065       NaN   NaN   6.491935"
      ]
     },
     "execution_count": 128,
     "metadata": {},
     "output_type": "execute_result"
    }
   ],
   "source": [
    "df=pd.read_csv(\"df.csv\")\n",
    "df\n",
    "\n"
   ]
  },
  {
   "cell_type": "code",
   "execution_count": null,
   "id": "db356575",
   "metadata": {},
   "outputs": [],
   "source": []
  },
  {
   "cell_type": "code",
   "execution_count": null,
   "id": "7e5690ba",
   "metadata": {},
   "outputs": [],
   "source": []
  }
 ],
 "metadata": {
  "kernelspec": {
   "display_name": "Python 3 (ipykernel)",
   "language": "python",
   "name": "python3"
  },
  "language_info": {
   "codemirror_mode": {
    "name": "ipython",
    "version": 3
   },
   "file_extension": ".py",
   "mimetype": "text/x-python",
   "name": "python",
   "nbconvert_exporter": "python",
   "pygments_lexer": "ipython3",
   "version": "3.11.5"
  }
 },
 "nbformat": 4,
 "nbformat_minor": 5
}
